{
 "cells": [
  {
   "cell_type": "code",
   "execution_count": 1,
   "metadata": {},
   "outputs": [],
   "source": [
    "import numpy as np\n",
    "import pandas as pd\n",
    "import os\n",
    "\n",
    "import git\n",
    "from git import RemoteProgress\n",
    "\n",
    "from git import Repo\n",
    "from datetime import datetime, date\n",
    "import matplotlib.pyplot as plt\n",
    "import seaborn as sns\n",
    "from time import strptime\n",
    "%matplotlib inline"
   ]
  },
  {
   "cell_type": "code",
   "execution_count": 2,
   "metadata": {},
   "outputs": [],
   "source": [
    "class Progress(RemoteProgress):\n",
    "    def update(self, op_code, cur_count, max_count=None, message=''):\n",
    "        print(self._cur_line)"
   ]
  },
  {
   "cell_type": "code",
   "execution_count": 3,
   "metadata": {},
   "outputs": [],
   "source": [
    "# uncomment the correct repo you want the information from\n",
    "\n",
    "\n",
    "\n",
    "# # apache poi \n",
    "# remote_link = \"https://github.com/apache/poi\"\n",
    "# local_link = \"repo/poi\"\n",
    "# # Uncomment to clone\n",
    "# # Repo.clone_from(remote_link, local_link, progress=Progress())\n",
    "# repo = Repo(local_link)\n",
    "# vcc_commit = \"eabb6a924be24abb879372d0bc967e0d316b2cf8\"\n",
    "# affected_files = [\"src/ooxml/java/org/apache/poi/POIXMLTypeLoader.java\",\n",
    "#                   \"src/ooxml/java/org/apache/poi/util/DocumentHelper.java\"]\n",
    "\n",
    "\n",
    "\n",
    "\n",
    "# cloudfoundry uua \n",
    "remote_link = \"https://github.com/cloudfoundry/uaa\"\n",
    "local_link = \"repo/uua\"\n",
    "# Uncomment to clone\n",
    "# Repo.clone_from(remote_link, local_link, progress=Progress())\n",
    "repo = Repo(local_link)\n",
    "vcc_commit = \"8dff169699d44c602c7b5942ba790e197117d627\"\n",
    "affected_files = [\"server/src/main/java/org/cloudfoundry/identity/uaa/zone/GeneralIdentityZoneConfigurationValidator.java\"]\n",
    "\n",
    "\n",
    "\n",
    "\n",
    "# # apache struts \n",
    "# remote_link = \"https://github.com/apache/struts\"\n",
    "# local_link = \"repo/struts\"\n",
    "# # Uncomment to clone\n",
    "# # Repo.clone_from(remote_link, local_link, progress=Progress())\n",
    "# repo = Repo(local_link)\n",
    "# vcc_commit = \"ade5c99a072b19350c6cd1e7b1c79ffa031cdfa5\"\n",
    "# affected_files = [\"core/src/main/java/com/opensymphony/xwork2/security/DefaultExcludedPatternsChecker.java\",\n",
    "#                   \"xwork-core/src/test/java/com/opensymphony/xwork2/interceptor/ParametersInterceptorTest.java\"]\n",
    "\n"
   ]
  },
  {
   "cell_type": "code",
   "execution_count": 4,
   "metadata": {},
   "outputs": [],
   "source": [
    "def removeDuplicates(array):\n",
    "    new_array = []\n",
    "    for value in array:\n",
    "        if value not in new_array:\n",
    "            new_array.append(value)\n",
    "    return new_array"
   ]
  },
  {
   "cell_type": "code",
   "execution_count": 5,
   "metadata": {},
   "outputs": [
    {
     "name": "stdout",
     "output_type": "stream",
     "text": [
      "commit 8dff169699d44c602c7b5942ba790e197117d627\n",
      "Author: cf-identity <cf-identity-eng@pivotal.io>\n",
      "Date:   Mon Aug 28 17:10:16 2017 -0700\n",
      "\n",
      "    Revert \"Revert \"Merge branch 'feature/banner-of-day-api' into develop\"\"\n",
      "    \n",
      "    This reverts commit 55956f22c1de9234659105117811fc3da6677174.\n",
      "    \n",
      "    [finishes #150108579] https://www.pivotaltracker.com/story/show/150108579\n",
      "    [finishes #150270498] https://www.pivotaltracker.com/story/show/150270498\n",
      "    [finishes #150118804] https://www.pivotaltracker.com/story/show/150118804\n"
     ]
    }
   ],
   "source": [
    "# prints the commit message, 6a\n",
    "\n",
    "show_data = repo.git.show(\"-s\", vcc_commit).splitlines()\n",
    "for line in show_data:\n",
    "    print(line)\n"
   ]
  },
  {
   "cell_type": "code",
   "execution_count": 6,
   "metadata": {},
   "outputs": [
    {
     "name": "stdout",
     "output_type": "stream",
     "text": [
      "9 files changed\n"
     ]
    }
   ],
   "source": [
    "# print the number of files changed, 6b\n",
    "\n",
    "# retuns the files that have been changed\n",
    "files = repo.git.whatchanged(\"-1\", \"--format=oneline\", vcc_commit).splitlines()\n",
    "\n",
    "# minus one as one is the commit message\n",
    "files.pop(0)\n",
    "\n",
    "print(str(len(files)) + \" files changed\")"
   ]
  },
  {
   "cell_type": "code",
   "execution_count": 7,
   "metadata": {},
   "outputs": [
    {
     "name": "stdout",
     "output_type": "stream",
     "text": [
      "5 directories changed\n"
     ]
    }
   ],
   "source": [
    "# prints the number of unique directories, 6c\n",
    "\n",
    "all_directories = []\n",
    "\n",
    "for file in files:\n",
    "    file_split = file.split()\n",
    "    full_dir = file_split[5]\n",
    "    directory = os.path.dirname(full_dir)\n",
    "    all_directories.append(directory)\n",
    "    \n",
    "all_directories = removeDuplicates(all_directories)\n",
    "print(str(len(all_directories)) + \" directories changed\")\n",
    "    "
   ]
  },
  {
   "cell_type": "code",
   "execution_count": 8,
   "metadata": {},
   "outputs": [
    {
     "name": "stdout",
     "output_type": "stream",
     "text": [
      "Total deletions: 5\n",
      "Total additions: 528\n"
     ]
    }
   ],
   "source": [
    "# prints the number of added/delete lines (inculding comments / blanks lines), 6d, 6e\n",
    "\n",
    "lines_changed = repo.git.show(\"--pretty=tformat:\", \"--numstat\", vcc_commit).splitlines()\n",
    "\n",
    "total_lines_added = 0\n",
    "total_lines_deleted = 0\n",
    "\n",
    "for line in lines_changed:\n",
    "    line_split = line.split()\n",
    "    total_lines_added += int(line_split[0].strip())\n",
    "    total_lines_deleted += int(line_split[1].strip())\n",
    "    \n",
    "print(\"Total deletions: \" + str(total_lines_deleted))\n",
    "print(\"Total additions: \" + str(total_lines_added))"
   ]
  },
  {
   "cell_type": "code",
   "execution_count": 9,
   "metadata": {},
   "outputs": [],
   "source": [
    "def countNumberBlankComments(file, langauge):\n",
    "    total_blank_additions = 0\n",
    "    total_blank_deletions = 0\n",
    "    \n",
    "    if langauge == \"Java\":\n",
    "        for line in file:\n",
    "            if line[0] == \"+\":\n",
    "                line = line[1:]\n",
    "                line = line.strip()\n",
    "                if line == \"\":\n",
    "                    total_blank_additions += 1\n",
    "                    continue\n",
    "                if line[0] == \"/\" or line[0] == \"*\":\n",
    "                    total_blank_additions += 1\n",
    "                    \n",
    "            if line[0] == \"-\":\n",
    "                line = line[1:]\n",
    "                line = line.strip()\n",
    "                if line == \"\":\n",
    "                    total_blank_deletions += 1\n",
    "                    continue\n",
    "                if line[0] == \"/\" or line[0] == \"*\":\n",
    "                    total_blank_deletions += 1\n",
    "    return total_blank_additions, total_blank_deletions"
   ]
  },
  {
   "cell_type": "code",
   "execution_count": 10,
   "metadata": {},
   "outputs": [
    {
     "name": "stdout",
     "output_type": "stream",
     "text": [
      "Total deletions (without comments/blanklines): 5\n",
      "Total additions (without comments/blanklines): 458\n"
     ]
    }
   ],
   "source": [
    "# prints the number of added/deleted lines (Excluding comments / blanks lines) 6f, 6g\n",
    "\n",
    "total_blank = [0, 0]\n",
    "\n",
    "# for each changed file\n",
    "for file in files:\n",
    "    # get the directory\n",
    "    file_split = file.split()\n",
    "    full_dir = file_split[5]\n",
    "    \n",
    "    #get the diff and find the blanks and comments     \n",
    "    affected_file_diff = repo.git.diff(vcc_commit + \"^\" + \"..\" + vcc_commit, \"--\", full_dir).splitlines()\n",
    "    this_total_blank = countNumberBlankComments(affected_file_diff, \"Java\")\n",
    "    \n",
    "    # add blanks and comments to total     \n",
    "    total_blank = np.add(total_blank, this_total_blank)\n",
    "\n",
    "# get the total from before and the found blank lines and remove them from total\n",
    "total_blank_additions = total_lines_added - total_blank[0]\n",
    "total_blank_deletions = total_lines_deleted - total_blank[1]\n",
    "\n",
    "print(\"Total deletions (without comments/blanklines): \" + str(total_blank_deletions))\n",
    "print(\"Total additions (without comments/blanklines): \" + str(total_blank_additions))"
   ]
  },
  {
   "cell_type": "code",
   "execution_count": 11,
   "metadata": {},
   "outputs": [],
   "source": [
    "def convertToDate(input_date):\n",
    "    split = input_date.split()\n",
    "    year = split[4]\n",
    "    month = strptime(split[1],'%b').tm_mon\n",
    "    day = split[2]\n",
    "    return date(year = int(year), month = month, day = int(day))"
   ]
  },
  {
   "cell_type": "code",
   "execution_count": 12,
   "metadata": {},
   "outputs": [
    {
     "name": "stdout",
     "output_type": "stream",
     "text": [
      "Total days since file GeneralIdentityZoneConfigurationValidator.java changed: 3\n"
     ]
    }
   ],
   "source": [
    "# time difference between the fixing commit and the previous commit, 6h\n",
    "\n",
    "for affected_file in affected_files:\n",
    "    dates = repo.git.log(\"--format=%ad\", vcc_commit, \"--\", affected_file).splitlines()\n",
    "    if len(dates) <= 0:\n",
    "        print(\"This file isn't in this commit: \", affected_file)\n",
    "        continue\n",
    "    date1_object = convertToDate(dates[0])\n",
    "    if len(dates) < 2:\n",
    "        print(\"no other changes have been made before\")\n",
    "    else:    \n",
    "        date2_object = convertToDate(dates[1])\n",
    "        total_days = abs((date1_object - date2_object).days)\n",
    "        print(\"Total days since file\", os.path.basename(affected_file), \"changed:\", total_days)"
   ]
  },
  {
   "cell_type": "code",
   "execution_count": 13,
   "metadata": {},
   "outputs": [
    {
     "name": "stdout",
     "output_type": "stream",
     "text": [
      "This file GeneralIdentityZoneConfigurationValidator.java has been changed: 13 times\n"
     ]
    }
   ],
   "source": [
    "# get the number of times this file has been changed, 6i\n",
    "\n",
    "for affected_file in affected_files:\n",
    "    times = repo.git.log(\"--format=%ad\", vcc_commit, \"--\", affected_file).splitlines()\n",
    "    print(\"This file\", os.path.basename(affected_file), \"has been changed:\", len(times), \"times\")"
   ]
  },
  {
   "cell_type": "code",
   "execution_count": 14,
   "metadata": {},
   "outputs": [
    {
     "name": "stdout",
     "output_type": "stream",
     "text": [
      "GeneralIdentityZoneConfigurationValidator.java \n",
      "\tAuthors:\n",
      "\t\t cf-identity\n",
      "\t\t Henry Zhao\n",
      "\t\t Bharath\n",
      "\t\t Helen Chung\n",
      "\t\t Filip Hanik\n",
      "\t\t Bharath Sekar\n",
      "\t\t Jeremy Coffield\n",
      "\t\t Madhura Bhave\n",
      "\n"
     ]
    }
   ],
   "source": [
    "# what devolpers have modifed this file? 6j\n",
    "all_files_authors = []\n",
    "for affected_file in affected_files:\n",
    "    all_authors = repo.git.log(\"--format=%an\", vcc_commit, \"--\", affected_file).splitlines()\n",
    "    authors = removeDuplicates(all_authors)\n",
    "    \n",
    "    all_files_authors.extend(authors)\n",
    "    all_files_authors = removeDuplicates(all_files_authors)\n",
    "    \n",
    "    print(os.path.basename(affected_file), \"\\n\\tAuthors:\")\n",
    "    for author in authors:\n",
    "        print(\"\\t\\t\", author)\n",
    "    print(\"\")"
   ]
  },
  {
   "cell_type": "code",
   "execution_count": 15,
   "metadata": {},
   "outputs": [],
   "source": [
    "def getAuthorCommits(author_name, df):\n",
    "    row = df[df[\"Author\"].str.contains(author_name)]\n",
    "    commits = row[\"Commit\"].iloc[0]\n",
    "    return int(commits)"
   ]
  },
  {
   "cell_type": "code",
   "execution_count": 16,
   "metadata": {},
   "outputs": [
    {
     "name": "stdout",
     "output_type": "stream",
     "text": [
      "cf-identity : 271  Commits\n",
      "Henry Zhao : 73  Commits\n",
      "Bharath : 153  Commits\n",
      "Helen Chung : 39  Commits\n",
      "Filip Hanik : 2306  Commits\n",
      "Bharath Sekar : 153  Commits\n",
      "Jeremy Coffield : 217  Commits\n",
      "Madhura Bhave : 209  Commits\n"
     ]
    }
   ],
   "source": [
    "# how many has each person commited\n",
    "\n",
    "commit_authors = repo.git.shortlog(\"-sne\", \"--all\").splitlines()\n",
    "\n",
    "author_commits = []\n",
    "\n",
    "for commit_author in commit_authors:\n",
    "    commit, author = commit_author.split(\"\\t\")\n",
    "    author_commits.append([int(commit), author])\n",
    "    \n",
    "df = pd.DataFrame(author_commits, columns=['Commit', 'Author'])\n",
    "\n",
    "for author in all_files_authors:\n",
    "    print(author, \":\", getAuthorCommits(author, df), \" Commits\")\n",
    "\n"
   ]
  },
  {
   "cell_type": "code",
   "execution_count": null,
   "metadata": {},
   "outputs": [],
   "source": [
    " "
   ]
  },
  {
   "cell_type": "code",
   "execution_count": null,
   "metadata": {},
   "outputs": [],
   "source": []
  },
  {
   "cell_type": "code",
   "execution_count": null,
   "metadata": {},
   "outputs": [],
   "source": []
  },
  {
   "cell_type": "code",
   "execution_count": null,
   "metadata": {},
   "outputs": [],
   "source": []
  },
  {
   "cell_type": "code",
   "execution_count": null,
   "metadata": {},
   "outputs": [],
   "source": []
  },
  {
   "cell_type": "code",
   "execution_count": null,
   "metadata": {},
   "outputs": [],
   "source": []
  },
  {
   "cell_type": "code",
   "execution_count": null,
   "metadata": {},
   "outputs": [],
   "source": []
  }
 ],
 "metadata": {
  "kernelspec": {
   "display_name": "Python 3",
   "language": "python",
   "name": "python3"
  },
  "language_info": {
   "codemirror_mode": {
    "name": "ipython",
    "version": 3
   },
   "file_extension": ".py",
   "mimetype": "text/x-python",
   "name": "python",
   "nbconvert_exporter": "python",
   "pygments_lexer": "ipython3",
   "version": "3.7.3"
  }
 },
 "nbformat": 4,
 "nbformat_minor": 4
}
